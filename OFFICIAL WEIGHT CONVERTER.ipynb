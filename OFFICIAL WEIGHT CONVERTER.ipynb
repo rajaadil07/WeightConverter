{
 "cells": [
  {
   "cell_type": "code",
   "execution_count": null,
   "metadata": {},
   "outputs": [],
   "source": [
    "pounds = 0\n",
    "kilograms = 0\n",
    "print(\"Enter your weight: \")\n",
    "while True:\n",
    "    print(\"\")\n",
    "    try:\n",
    "        weight = float(input(\"Weight: \"))\n",
    "    except ValueError:\n",
    "        print(\"Invalid Response!\")\n",
    "        continue\n",
    "    print(\"\")\n",
    "    print(\"Convert to Pounds: (K)\\nConvert to Kilograms: (L)\")\n",
    "    pounds_or_kilograms = input(\"(K)g or (L)bs: \")\n",
    "    print(\"\")\n",
    "    if pounds_or_kilograms.lower() == 'l':\n",
    "        kilograms = weight / 2.205\n",
    "        print(f\"You weigh {round(kilograms, 2)} kilograms.\")\n",
    "        break\n",
    "    elif pounds_or_kilograms.lower() == 'k':\n",
    "        pounds = weight * 2.205\n",
    "        print(f\"You weigh {round(pounds, 2)} pounds.\")\n",
    "        break\n",
    "    else:\n",
    "        print(\"Invalid Response!\")\n",
    "        continue"
   ]
  }
 ],
 "metadata": {
  "kernelspec": {
   "display_name": "Python 3",
   "language": "python",
   "name": "python3"
  },
  "language_info": {
   "codemirror_mode": {
    "name": "ipython",
    "version": 3
   },
   "file_extension": ".py",
   "mimetype": "text/x-python",
   "name": "python",
   "nbconvert_exporter": "python",
   "pygments_lexer": "ipython3",
   "version": "3.7.6"
  }
 },
 "nbformat": 4,
 "nbformat_minor": 4
}
